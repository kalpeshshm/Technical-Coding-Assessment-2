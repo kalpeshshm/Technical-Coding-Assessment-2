{
 "cells": [
  {
   "cell_type": "markdown",
   "id": "c74b05a3",
   "metadata": {},
   "source": [
    "# # Technical Coding Assessment: - 2"
   ]
  },
  {
   "cell_type": "markdown",
   "id": "16b80548",
   "metadata": {},
   "source": [
    "# The validate_triangle and validate_rectangle functions for the classes"
   ]
  },
  {
   "cell_type": "code",
   "execution_count": 1,
   "id": "0a50fdbc",
   "metadata": {},
   "outputs": [
    {
     "name": "stdout",
     "output_type": "stream",
     "text": [
      "3\n",
      "4\n",
      "5\n",
      "Valid Triangle\n",
      "1\n",
      "2\n",
      "1\n",
      "2\n",
      "Valid Rectangle\n"
     ]
    }
   ],
   "source": [
    "def checkValidity(a, b, c):\n",
    "     \n",
    "    # check condition\n",
    "    if (a + b <= c) or (a + c <= b) or (b + c <= a) :\n",
    "        return False\n",
    "    else:\n",
    "        return True       \n",
    " \n",
    "# driver code\n",
    "a = int(input())\n",
    "b = int(input())\n",
    "c = int(input())\n",
    "if checkValidity(a, b, c):\n",
    "    print(\"Valid Triangle\")\n",
    "else:\n",
    "    print(\"Invalid Triangle\")\n",
    "    \n",
    "    \n",
    "    \n",
    "def checkvailidity (a,b,c,d):\n",
    "    if (a==c) or (b==d) or (a==d):\n",
    "        return True\n",
    "    else: return False \n",
    "a = int(input())\n",
    "b = int(input())\n",
    "c = int(input())\n",
    "d = int(input())\n",
    "if checkvailidity (a,b,c,d):\n",
    "    print(\"Valid Rectangle\")\n",
    "else:\n",
    "    print(\"NOT Rectangle\")"
   ]
  }
 ],
 "metadata": {
  "kernelspec": {
   "display_name": "Python 3 (ipykernel)",
   "language": "python",
   "name": "python3"
  },
  "language_info": {
   "codemirror_mode": {
    "name": "ipython",
    "version": 3
   },
   "file_extension": ".py",
   "mimetype": "text/x-python",
   "name": "python",
   "nbconvert_exporter": "python",
   "pygments_lexer": "ipython3",
   "version": "3.10.0"
  }
 },
 "nbformat": 4,
 "nbformat_minor": 5
}
